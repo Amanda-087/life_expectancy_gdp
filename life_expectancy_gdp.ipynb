{
 "cells": [
  {
   "cell_type": "markdown",
   "metadata": {},
   "source": [
    "## Life Expectancy\n",
    "\n",
    "For this project, you will act as a data researcher for the World Health Organization. You will investigate if there is a strong correlation between the economic output of a country and the life expectancy of its citizens.\n",
    "\n",
    "**Focusing Questions**: \n",
    "+ Has life expectancy increased over time in the seven nations?\n",
    "+ Has GDP increased over time in the seven nations?\n",
    "+ Is there a correlation between GDP and life expectancy of a country?\n",
    "+ What is the average life expactancy in these nations?\n",
    "+ What is the distribution of that life expectancy?\n",
    "\n",
    "GDP Source:[World Bank](https://data.worldbank.org/indicator/NY.GDP.MKTP.CD)national accounts data, and OECD National Accounts data files.\n",
    "\n",
    "Life expectancy Data Source: [World Health Organization](http://apps.who.int/gho/data/node.main.688)"
   ]
  },
  {
   "cell_type": "markdown",
   "metadata": {},
   "source": [
    "## Step 1: Import python Modules\n",
    "\n",
    "Import the modules that you'll be using in this project:\n",
    "- `from matplotlib import pyplot as plt`\n",
    "- `import pandas as pd`\n",
    "- `import seaborn as sns`"
   ]
  },
  {
   "cell_type": "code",
   "execution_count": 30,
   "metadata": {},
   "outputs": [],
   "source": [
    "from matplotlib import pyplot as plt \n",
    "import pandas as pd \n",
    "import seaborn as sns \n"
   ]
  },
  {
   "cell_type": "markdown",
   "metadata": {},
   "source": [
    "## Step 2: Ingest the Data\n",
    "\n",
    "To look for connections between GDP and life expectancy you will need to load the datasets into DataFrames so that they can be visualized.\n",
    "\n",
    "Load all_data.csv into a DataFrame. Then, quickly inspect the DataFrame using `.head()`.\n",
    "\n",
    "Hint: Use `pd.read_csv()`"
   ]
  },
  {
   "cell_type": "code",
   "execution_count": 31,
   "metadata": {},
   "outputs": [
    {
     "name": "stdout",
     "output_type": "stream",
     "text": [
      "  Country  Year  Life expectancy at birth (years)           GDP\n",
      "0   Chile  2000                              77.3  7.786093e+10\n",
      "1   Chile  2001                              77.3  7.097992e+10\n",
      "2   Chile  2002                              77.8  6.973681e+10\n",
      "3   Chile  2003                              77.9  7.564346e+10\n",
      "4   Chile  2004                              78.0  9.921039e+10\n",
      "     Country  Year  Life expectancy at birth (years)           GDP\n",
      "91  Zimbabwe  2011                              54.9  1.209845e+10\n",
      "92  Zimbabwe  2012                              56.6  1.424249e+10\n",
      "93  Zimbabwe  2013                              58.0  1.545177e+10\n",
      "94  Zimbabwe  2014                              59.2  1.589105e+10\n",
      "95  Zimbabwe  2015                              60.7  1.630467e+10\n",
      "Country                             0\n",
      "Year                                0\n",
      "Life expectancy at birth (years)    0\n",
      "GDP                                 0\n",
      "dtype: int64\n"
     ]
    }
   ],
   "source": [
    "data = pd.read_csv('all_data.csv')\n",
    "print(data.head()) #shows first 5 rows\n",
    "print(data.tail()) #shows last 5 rows\n",
    "print(data.isna().sum()) #shows if there are null values in columns\n",
    "\n",
    "\n"
   ]
  },
  {
   "cell_type": "markdown",
   "metadata": {},
   "source": [
    "## Step 3: Examine the Data\n",
    "\n",
    "The datasets are large and it may be easier to view the entire dataset locally on your computer. You can open the CSV files directly from the folder you downloaded for this project.\n",
    "\n",
    "Let's learn more about our data:\n",
    "- GDP stands for **G**ross **D**omestic **P**roduct. GDP is a monetary measure of the market value of all final goods and services produced in a time period. \n",
    "- The GDP values are in current US dollars.\n",
    "\n",
    "Answer the following questions by inspecting the data in the file **all_data.csv**.\n",
    "- What countries are represented in the data?\n",
    "- What years are represented in the data?\n",
    "- How many rows are there for each country (careful, this one can be a bit tricky)?\n",
    "- What determines the order that each country's row entries are in. (What order are the 'China' entries in?)\n",
    "\n"
   ]
  },
  {
   "cell_type": "code",
   "execution_count": 32,
   "metadata": {},
   "outputs": [
    {
     "name": "stdout",
     "output_type": "stream",
     "text": [
      "['Chile' 'China' 'Germany' 'Mexico' 'United States of America' 'Zimbabwe']\n",
      "Index([u'Country', u'Year', u'Life expectancy at birth (years)', u'GDP'], dtype='object')\n",
      "[2000 2001 2002 2003 2004 2005 2006 2007 2008 2009 2010 2011 2012 2013\n",
      " 2014 2015]\n",
      "96\n"
     ]
    }
   ],
   "source": [
    "print(data.Country.unique())\n",
    "# COUNTRIES: Chile, China, Germany, Mexico, United States of America, Zimbabwe\n",
    "print(data.columns)\n",
    "# COLUMNS: Country, Year, Life expectancy at birth (years), GDP\n",
    "print(data.Year.unique())\n",
    "# YEARS: 2000, 2001, 2002, 2003, 2004, 2005, 2006, 2007, 2008, 2009, 2010, 2011, 2012, 2013, 2014, 2015\n",
    "print(len(data))\n",
    "# ROWS: 96\n",
    "\n"
   ]
  },
  {
   "cell_type": "markdown",
   "metadata": {},
   "source": [
    "## Step 4: Tweak the Data Frame\n",
    "\n",
    "What do you notice? The first two column names are one word each, and the third is five whole words long! `Life expectancy at birth (years)` is descriptive, which will be good for labeling the axis, but a little difficult to wrangle for coding the plot itself. \n",
    "\n",
    "Use Pandas to change the name of the last column to `LEABY`.\n",
    "\n",
    "(Hint: Use `.rename()`. [You can read the documentation here.](https://pandas.pydata.org/pandas-docs/stable/generated/pandas.DataFrame.rename.html))."
   ]
  },
  {
   "cell_type": "code",
   "execution_count": 33,
   "metadata": {},
   "outputs": [
    {
     "name": "stdout",
     "output_type": "stream",
     "text": [
      "  Country  Year  LEABY           GDP\n",
      "0   Chile  2000   77.3  7.786093e+10\n",
      "1   Chile  2001   77.3  7.097992e+10\n",
      "2   Chile  2002   77.8  6.973681e+10\n",
      "3   Chile  2003   77.9  7.564346e+10\n",
      "4   Chile  2004   78.0  9.921039e+10\n"
     ]
    }
   ],
   "source": [
    "data.rename(columns={'Life expectancy at birth (years)' : 'LEABY'}, inplace=True)\n",
    "print(data.head())"
   ]
  },
  {
   "cell_type": "markdown",
   "metadata": {},
   "source": [
    "## Step 5: Bar Charts to Compare Average\n",
    "\n",
    "We want to compare the GDPs of the countries over time, in order to eventually look for correlation between GDP and life expectancy. \n",
    "\n",
    "1. Plot the DataFrame on a Seaborn `.pointplot()`\n",
    "2. Create a bar chart using the data in with `Country` on the x-axis and `LEABY` on the y-axis.\n",
    "\n",
    "- What do you notice about the two bar charts? Do they look similar?\n",
    "The bar charts do not look similar. it looks like the higher the gdp the higher the life expectancy exept with chille whose gdp is low but life expectancy is on the higher side"
   ]
  },
  {
   "cell_type": "code",
   "execution_count": 34,
   "metadata": {},
   "outputs": [
    {
     "data": {
      "text/plain": [
       "(array([0, 1, 2, 3, 4, 5]), <a list of 6 Text xticklabel objects>)"
      ]
     },
     "execution_count": 34,
     "metadata": {},
     "output_type": "execute_result"
    },
    {
     "data": {
      "image/png": "[encoded data removed]",
      "text/plain": [
       "<Figure size 432x288 with 1 Axes>"
      ]
     },
     "metadata": {
      "needs_background": "light"
     },
     "output_type": "display_data"
    }
   ],
   "source": [
    "ax = sns.barplot(x=\"Country\", y=\"GDP\", data=data)\n",
    "plt.xticks(rotation=90)"
   ]
  },
  {
   "cell_type": "code",
   "execution_count": 35,
   "metadata": {},
   "outputs": [
    {
     "data": {
      "image/png": "[encoded data removed]",
      "text/plain": [
       "<Figure size 432x288 with 1 Axes>"
      ]
     },
     "metadata": {
      "needs_background": "light"
     },
     "output_type": "display_data"
    }
   ],
   "source": [
    "ax = sns.barplot(x=\"Country\", y=\"LEABY\", data=data)\n",
    "plt.xticks(rotation=90)\n",
    "plt.show()"
   ]
  },
  {
   "cell_type": "markdown",
   "metadata": {},
   "source": [
    "## Step 6: Violin Plots to compare Life Expectancy Distributions\n",
    "\n",
    "Another way to compare two datasets is to visualize the distributions of each and to look for patterns in the shapes.\n",
    "\n",
    "We have added the code to instantiate a figure with the correct dimmensions to observe detail. \n",
    "1. Create an `sns.violinplot()` for the dataframe `df` and map `Country` and `LEABY` as its respective `x` and `y` axes. \n",
    "2. Be sure to show your plot\n",
    "\n",
    "- What do you notice about this distribution? Which country's life expactancy has changed the most?\n",
    "Zimbabwe seems to have changed the most. I can see more information through this visual."
   ]
  },
  {
   "cell_type": "code",
   "execution_count": 36,
   "metadata": {},
   "outputs": [
    {
     "data": {
      "image/png": "[encoded data removed]",
      "text/plain": [
       "<Figure size 1080x720 with 1 Axes>"
      ]
     },
     "metadata": {
      "needs_background": "light"
     },
     "output_type": "display_data"
    }
   ],
   "source": [
    "fig = plt.subplots(figsize=(15, 10)) \n",
    "sns.violinplot(x=\"Country\", y=\"LEABY\", data=data)\n",
    "plt.show()"
   ]
  },
  {
   "cell_type": "markdown",
   "metadata": {},
   "source": [
    "## Step 7: Bar Plots Of GDP and Life Expectancy over time\n",
    "\n",
    "We want to compare the GDPs of the countries over time, in order to get a sense of the relationship between GDP and life expectancy. \n",
    "\n",
    "First, can plot the progession of GDP's over the years by country in a barplot using Seaborn.\n",
    "We have set up a figure with the correct dimensions for your plot. Under that declaration:\n",
    "1. Save `sns.barplot()` to a variable named `ax`\n",
    "2. Chart `Country` on the x axis, and `GDP` on the `Y` axis on the barplot. Hint: `ax = sns.barplot(x=\"Country\", y=\"GDP\")`\n",
    "3. Use the `Year` as a `hue` to differentiate the 15 years in our data. Hint: `ax = sns.barplot(x=\"Country\", y=\"GDP\", hue=\"Year\", data=df)`\n",
    "4. Since the names of the countries are long, let's rotate their label by 90 degrees so that they are legible. Use `plt.xticks(\"rotation=90\")`\n",
    "5. Since our GDP is in trillions of US dollars, make sure your Y label reflects that by changing it to `\"GDP in Trillions of U.S. Dollars\"`. Hint: `plt.ylabel(\"GDP in Trillions of U.S. Dollars\")`\n",
    "6. Be sure to show your plot."
   ]
  },
  {
   "cell_type": "code",
   "execution_count": null,
   "metadata": {},
   "outputs": [],
   "source": []
  },
  {
   "cell_type": "markdown",
   "metadata": {},
   "source": [
    "Now that we have plotted a barplot that clusters GDP over time by Country, let's do the same for Life Expectancy.\n",
    "\n",
    "The code will essentially be the same as above! The beauty of Seaborn relies in its flexibility and extensibility. Paste the code from above in the cell bellow, and: \n",
    "1. Change your `y` value to `LEABY` to plot life expectancy instead. Hint: `ax = sns.barplot(x=\"Country\", y=\"LEABY\", hue=\"Year\", data=df)`\n",
    "2. Tweak the name of your `ylabel` to reflect this change, by making the label `\"Life expectancy at birth in years\"` Hint: `ax.set(ylabel=\"Life expectancy at birth in years\")`\n",
    "\n",
    "What are your first impressions looking at the visualized data?\n",
    "\n",
    "- Which countries' bars changes the most?\n",
    "- What years are there the biggest changes in the data?\n",
    "- Which country has had the least change in GDP over time? \n",
    "- How do countries compare to one another?\n",
    "- Now that you can see the both bar charts, what do you think about the relationship between GDP and life expectancy?\n",
    "- Can you think of any reasons that the data looks like this for particular countries?\n",
    "\n",
    "Note: You've mapped two bar plots showcasing a variable over time by country, however, bar charts are not traditionally used for this purpose. In fact, a great way to visualize a variable over time is by using a line plot. While the bar charts tell us some information, the data would be better illustrated on a line plot.  We will complete this in steps 9 and 10, for now let's switch gears and create another type of chart."
   ]
  },
  {
   "cell_type": "code",
   "execution_count": null,
   "metadata": {},
   "outputs": [],
   "source": []
  },
  {
   "cell_type": "markdown",
   "metadata": {},
   "source": [
    "## Step 8: Scatter Plots of GDP and Life Expectancy Data\n",
    "\n",
    "To create a visualization that will make it easier to see the possible correlation between GDP and life expectancy, you can plot each set of data on its own subplot, on a shared figure.\n",
    "\n",
    "To create multiple plots for comparison, Seaborn has a special (function)[https://seaborn.pydata.org/generated/seaborn.FacetGrid.html] called `FacetGrid`. A FacetGrid takes in a function and creates an individual graph for which you specify the arguments!\n",
    "    \n",
    "Since this may be the first time you've learned about FacetGrid, we have prepped a fill in the blank code snippet below. \n",
    "Here are the instructors to fill in the blanks from the commented word bank:\n",
    "\n",
    "1. In this graph, we want GDP on the X axis and Life Expectancy on the Y axis.\n",
    "2. We want the columns to be split up for every Year in the data\n",
    "3. We want the data points to be differentiated (hue) by Country.\n",
    "4. We want to use a Matplotlib scatter plot to visualize the different graphs\n",
    "\n",
    "+ Which country moves the most along the X axis over the years?\n",
    "+ Which country moves the most along the Y axis over the years?\n",
    "+ Is this surprising?\n",
    "+ Do you think these scatter plots are easy to read? Maybe there's a way to plot that! "
   ]
  },
  {
   "cell_type": "code",
   "execution_count": null,
   "metadata": {},
   "outputs": [],
   "source": []
  },
  {
   "cell_type": "markdown",
   "metadata": {},
   "source": [
    "## Step 9: Line Plots for Life Expectancy\n",
    "\n",
    "In the scatter plot grid above, it was hard to isolate the change for GDP and Life expectancy over time. \n",
    "It would be better illustrated with a line graph for each GDP and Life Expectancy by country. \n",
    "\n",
    "FacetGrid also allows you to do that! Instead of passing in `plt.scatter` as your Matplotlib function, you would have to pass in `plt.plot` to see a line graph. A few other things have to change as well. So we have created a different codesnippets with fill in the blanks.  that makes use of a line chart, and we will make two seperate FacetGrids for both GDP and Life Expectancy separately.\n",
    "\n",
    "Here are the instructors to fill in the blanks from the commented word bank:\n",
    "\n",
    "1. In this graph, we want Years on the X axis and Life Expectancy on the Y axis.\n",
    "2. We want the columns to be split up by Country\n",
    "3. We want to use a Matplotlib line plot to visualize the different graphs\n",
    "\n",
    "\n",
    "Be sure to show your plot!"
   ]
  },
  {
   "cell_type": "code",
   "execution_count": null,
   "metadata": {},
   "outputs": [],
   "source": []
  },
  {
   "cell_type": "markdown",
   "metadata": {},
   "source": [
    "What are your first impressions looking at the visualized data?\n",
    "\n",
    "- Which countries' line changes the most?\n",
    "- What years are there the biggest changes in the data?\n",
    "- Which country has had the least change in life expectancy over time? \n",
    "- Can you think of any reasons that the data looks like this for particular countries?"
   ]
  },
  {
   "cell_type": "markdown",
   "metadata": {},
   "source": [
    "## Step 10: Line Plots for GDP\n",
    "\n",
    "Let's recreate the same FacetGrid for GDP now. Instead of Life Expectancy on the Y axis, we now we want GDP.\n",
    "\n",
    "Once you complete and successfully run the code above, copy and paste it into the cell below. Change the variable for the X axis. Change the color on your own! Be sure to show your plot.\n",
    "\n",
    "Which countries have the highest and lowest GDP?\n",
    "\n",
    "Which countries have the highest and lowest life expectancy?\n",
    "\n"
   ]
  },
  {
   "cell_type": "code",
   "execution_count": null,
   "metadata": {},
   "outputs": [],
   "source": []
  },
  {
   "cell_type": "markdown",
   "metadata": {},
   "source": [
    "## Step 11: Researching Data Context \n",
    "\n",
    "Based on the visualization, choose one part the data to research a little further so you can add some real world context to the visualization. You can choose anything you like, or use the example question below.\n",
    "\n",
    "What happened in China between in the past 10 years that increased the GDP so drastically?\n",
    "\n"
   ]
  },
  {
   "cell_type": "code",
   "execution_count": null,
   "metadata": {},
   "outputs": [],
   "source": []
  },
  {
   "cell_type": "markdown",
   "metadata": {},
   "source": [
    "## Step 12: Create Blog Post\n",
    "\n",
    "Use the content you have created in this Jupyter notebook to create a blog post reflecting on this data.\n",
    "Include the following visuals in your blogpost:\n",
    "\n",
    "1. The violin plot of the life expectancy distribution by country\n",
    "2. The facet grid of scatter graphs mapping GDP as a function Life Expectancy by country\n",
    "3. The facet grid of line graphs mapping GDP by country\n",
    "4. The facet grid of line graphs mapping Life Expectancy by country\n",
    "\n",
    "\n",
    "We encourage you to spend some time customizing the color and style of your plots! Remember to use `plt.savefig(\"filename.png\")` to save your figures as a `.png` file.\n",
    "\n",
    "When authoring your blog post, here are a few guiding questions to guide your research and writing:\n",
    "+ How do you think the histories and the cultural values of each country relate to its GDP and life expectancy?\n",
    "+ What would have helped make the project data more reliable? What were the limitations of the dataset?\n",
    "+ Which graphs better illustrate different relationships??"
   ]
  }
 ],
 "metadata": {
  "kernelspec": {
   "display_name": "Python 3",
   "language": "python",
   "name": "python3"
  },
  "language_info": {
   "codemirror_mode": {
    "name": "ipython",
    "version": 2
   },
   "file_extension": ".py",
   "mimetype": "text/x-python",
   "name": "python",
   "nbconvert_exporter": "python",
   "pygments_lexer": "ipython2",
   "version": "2.7.18"
  }
 },
 "nbformat": 4,
 "nbformat_minor": 4
}
